{
 "cells": [
  {
   "cell_type": "code",
   "execution_count": 1,
   "id": "82263f25-72ca-4950-9e41-2983eb14fbee",
   "metadata": {},
   "outputs": [
    {
     "name": "stdout",
     "output_type": "stream",
     "text": [
      "                  sekcja        godziny  outdoor_zł  indoor_zł\n",
      "2  Poniedziałek - Piątek  07:00 - 12:00          70         80\n",
      "3  Poniedziałek - Piątek  12:00 - 15:00          60         70\n",
      "4  Poniedziałek - Piątek  15:00 - 22:00          90        100\n",
      "5  Poniedziałek - Piątek  22:00 - 24:00          75         85\n",
      "7     Sobota - Niedziela  07:00 - 24:00          80         90\n",
      "✔ Zapisano: C:\\Users\\User\\cennik_warszawianka_letni_2025.csv\n"
     ]
    }
   ],
   "source": [
    "import warnings, urllib3, requests, pandas as pd, re, os\n",
    "from bs4 import BeautifulSoup\n",
    "from io import StringIO\n",
    "\n",
    "# -- 1. Pobranie strony (HTTP, wyłączamy SSL-warn) -----------------------------\n",
    "warnings.filterwarnings(\"ignore\", category=urllib3.exceptions.InsecureRequestWarning)\n",
    "\n",
    "URL = \"http://www.tenis.centrumwarszawianka.pl/tenis.html\"   # bez #cennik!\n",
    "HEADERS = {\"User-Agent\": \"Mozilla/5.0\"}\n",
    "\n",
    "resp = requests.get(URL, headers=HEADERS, timeout=15, verify=False)\n",
    "resp.encoding = \"utf-8\"                      # <-- klucz przeciwko „krzaczkom”\n",
    "html = resp.text\n",
    "\n",
    "# -- 2. Bierzemy pierwszą tabelę ------------------------------------------------\n",
    "table_html = BeautifulSoup(html, \"lxml\").find(\"table\")\n",
    "df = pd.read_html(StringIO(str(table_html)), header=None)[0]   # FutureWarning gone\n",
    "\n",
    "df.columns = [\"raw\", \"outdoor\", \"indoor\"]          # 3 kolumny – reszta pusta\n",
    "df = df.dropna(subset=[\"raw\"]).reset_index(drop=True)\n",
    "\n",
    "# -- 3. Odrzucamy banery „Sezon LETNI …” ---------------------------------------\n",
    "df = df[~df[\"raw\"].str.contains(\"Sezon\", case=False, na=False)]\n",
    "\n",
    "# -- 4. Tworzymy kolumnę 'sekcja' (Pon-Pt / So-Nd) -----------------------------\n",
    "sec_mask = df[\"raw\"].str.contains(r\"Poniedziałek|Sobota\", case=False, na=False)\n",
    "df.loc[sec_mask, \"sekcja\"] = df.loc[sec_mask, \"raw\"]\n",
    "df[\"sekcja\"] = df[\"sekcja\"].ffill()\n",
    "df = df[~sec_mask]                              # zostają same wiersze z godzinami\n",
    "\n",
    "# -- 5. Czyścimy liczby ---------------------------------------------------------\n",
    "def pln2int(x: str) -> int:\n",
    "    return int(re.sub(r\"[^0-9]\", \"\", str(x)) or 0)\n",
    "\n",
    "df[\"outdoor_zł\"] = df[\"outdoor\"].map(pln2int)\n",
    "df[\"indoor_zł\"]  = df[\"indoor\"].map(pln2int)\n",
    "df = df[[\"sekcja\", \"raw\", \"outdoor_zł\", \"indoor_zł\"]]\n",
    "df.rename(columns={\"raw\": \"godziny\"}, inplace=True)\n",
    "\n",
    "print(df)\n",
    "\n",
    "# -- 6. Zapis -------------------------------------------------------------------\n",
    "out = \"cennik_warszawianka_letni_2025.csv\"\n",
    "df.to_csv(out, index=False, encoding=\"utf-8\")\n",
    "print(\"✔ Zapisano:\", os.path.abspath(out))\n",
    "\n"
   ]
  },
  {
   "cell_type": "code",
   "execution_count": 9,
   "id": "7864040f-573f-4ff8-a5f9-7c9fe2ac5b43",
   "metadata": {},
   "outputs": [],
   "source": [
    "import pandas as pd\n",
    "df=pd.read_csv(\"cennik_warszawianka_letni_2025.csv\")"
   ]
  },
  {
   "cell_type": "code",
   "execution_count": 11,
   "id": "7b59ec42-b8c8-45ad-94c4-1e831028d887",
   "metadata": {},
   "outputs": [
    {
     "data": {
      "text/html": [
       "<div>\n",
       "<style scoped>\n",
       "    .dataframe tbody tr th:only-of-type {\n",
       "        vertical-align: middle;\n",
       "    }\n",
       "\n",
       "    .dataframe tbody tr th {\n",
       "        vertical-align: top;\n",
       "    }\n",
       "\n",
       "    .dataframe thead th {\n",
       "        text-align: right;\n",
       "    }\n",
       "</style>\n",
       "<table border=\"1\" class=\"dataframe\">\n",
       "  <thead>\n",
       "    <tr style=\"text-align: right;\">\n",
       "      <th></th>\n",
       "      <th>sekcja</th>\n",
       "      <th>godziny</th>\n",
       "      <th>outdoor_zł</th>\n",
       "      <th>indoor_zł</th>\n",
       "    </tr>\n",
       "  </thead>\n",
       "  <tbody>\n",
       "    <tr>\n",
       "      <th>0</th>\n",
       "      <td>Poniedziałek - Piątek</td>\n",
       "      <td>07:00 - 12:00</td>\n",
       "      <td>70</td>\n",
       "      <td>80</td>\n",
       "    </tr>\n",
       "    <tr>\n",
       "      <th>1</th>\n",
       "      <td>Poniedziałek - Piątek</td>\n",
       "      <td>12:00 - 15:00</td>\n",
       "      <td>60</td>\n",
       "      <td>70</td>\n",
       "    </tr>\n",
       "    <tr>\n",
       "      <th>2</th>\n",
       "      <td>Poniedziałek - Piątek</td>\n",
       "      <td>15:00 - 22:00</td>\n",
       "      <td>90</td>\n",
       "      <td>100</td>\n",
       "    </tr>\n",
       "    <tr>\n",
       "      <th>3</th>\n",
       "      <td>Poniedziałek - Piątek</td>\n",
       "      <td>22:00 - 24:00</td>\n",
       "      <td>75</td>\n",
       "      <td>85</td>\n",
       "    </tr>\n",
       "    <tr>\n",
       "      <th>4</th>\n",
       "      <td>Sobota - Niedziela</td>\n",
       "      <td>07:00 - 24:00</td>\n",
       "      <td>80</td>\n",
       "      <td>90</td>\n",
       "    </tr>\n",
       "  </tbody>\n",
       "</table>\n",
       "</div>"
      ],
      "text/plain": [
       "                  sekcja        godziny  outdoor_zł  indoor_zł\n",
       "0  Poniedziałek - Piątek  07:00 - 12:00          70         80\n",
       "1  Poniedziałek - Piątek  12:00 - 15:00          60         70\n",
       "2  Poniedziałek - Piątek  15:00 - 22:00          90        100\n",
       "3  Poniedziałek - Piątek  22:00 - 24:00          75         85\n",
       "4     Sobota - Niedziela  07:00 - 24:00          80         90"
      ]
     },
     "execution_count": 11,
     "metadata": {},
     "output_type": "execute_result"
    }
   ],
   "source": [
    "df.head()"
   ]
  },
  {
   "cell_type": "code",
   "execution_count": null,
   "id": "1655aa76-3209-4d14-bd96-3c3ec0999fd3",
   "metadata": {},
   "outputs": [],
   "source": []
  }
 ],
 "metadata": {
  "kernelspec": {
   "display_name": "Python [conda env:base] *",
   "language": "python",
   "name": "conda-base-py"
  },
  "language_info": {
   "codemirror_mode": {
    "name": "ipython",
    "version": 3
   },
   "file_extension": ".py",
   "mimetype": "text/x-python",
   "name": "python",
   "nbconvert_exporter": "python",
   "pygments_lexer": "ipython3",
   "version": "3.12.7"
  }
 },
 "nbformat": 4,
 "nbformat_minor": 5
}
